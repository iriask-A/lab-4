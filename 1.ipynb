{
 "cells": [
  {
   "cell_type": "markdown",
   "metadata": {},
   "source": [
    "Python iterators and generators"
   ]
  },
  {
   "cell_type": "code",
   "execution_count": 23,
   "metadata": {},
   "outputs": [
    {
     "name": "stdout",
     "output_type": "stream",
     "text": [
      "1\n",
      "4\n",
      "9\n",
      "16\n"
     ]
    }
   ],
   "source": [
    "#1\n",
    "def squares(n):\n",
    "    for i in range(1,n+1):\n",
    "        yield i**2\n",
    "n=4\n",
    "for i in squares(n):\n",
    "    print(i)"
   ]
  },
  {
   "cell_type": "code",
   "execution_count": 21,
   "metadata": {},
   "outputs": [
    {
     "name": "stdout",
     "output_type": "stream",
     "text": [
      "0, 2, 4, 6, 8, 10, 12\n"
     ]
    }
   ],
   "source": [
    "#2\n",
    "def even(n):\n",
    "    for i in range(0,n+1):\n",
    "        if i%2==0:\n",
    "            yield i\n",
    "n=13 #int(input())\n",
    "print(', '.join(str(i) for i in even(n)))"
   ]
  },
  {
   "cell_type": "code",
   "execution_count": 20,
   "metadata": {},
   "outputs": [
    {
     "name": "stdout",
     "output_type": "stream",
     "text": [
      "0, 12, 24, 36, 48, 60\n"
     ]
    }
   ],
   "source": [
    "#3\n",
    "def divisible_by_3_4(n):\n",
    "    for i in range(0,n+1):\n",
    "        if i%3==0 and i%4==0:\n",
    "            yield i\n",
    "n=61\n",
    "print(', '.join(str(i) for i in divisible_by_3_4(n)))"
   ]
  },
  {
   "cell_type": "code",
   "execution_count": 25,
   "metadata": {},
   "outputs": [
    {
     "name": "stdout",
     "output_type": "stream",
     "text": [
      "9, 16, 25, 36, 49, 64, 81\n"
     ]
    }
   ],
   "source": [
    "#4\n",
    "def squares(a,b):\n",
    "    for i in range(a,b):\n",
    "        yield i**2\n",
    "a,b=3,10\n",
    "print(', '.join(str(i)for i in squares(a,b)))"
   ]
  },
  {
   "cell_type": "code",
   "execution_count": 27,
   "metadata": {},
   "outputs": [
    {
     "name": "stdout",
     "output_type": "stream",
     "text": [
      "10, 9, 8, 7, 6, 5, 4, 3, 2, 1, 0\n"
     ]
    }
   ],
   "source": [
    "#5\n",
    "def decrease(n):\n",
    "    for i in range(n,-1,-1):\n",
    "        yield i\n",
    "n=10\n",
    "print(', '.join(str(i)for i in decrease(n)))"
   ]
  }
 ],
 "metadata": {
  "kernelspec": {
   "display_name": "Python 3",
   "language": "python",
   "name": "python3"
  },
  "language_info": {
   "codemirror_mode": {
    "name": "ipython",
    "version": 3
   },
   "file_extension": ".py",
   "mimetype": "text/x-python",
   "name": "python",
   "nbconvert_exporter": "python",
   "pygments_lexer": "ipython3",
   "version": "3.13.1"
  }
 },
 "nbformat": 4,
 "nbformat_minor": 2
}
