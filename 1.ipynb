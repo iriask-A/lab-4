{
 "cells": [
  {
   "cell_type": "markdown",
   "metadata": {},
   "source": [
    "Python iterators and generators"
   ]
  },
  {
   "cell_type": "code",
   "execution_count": 23,
   "metadata": {},
   "outputs": [
    {
     "name": "stdout",
     "output_type": "stream",
     "text": [
      "1\n",
      "4\n",
      "9\n",
      "16\n"
     ]
    }
   ],
   "source": [
    "#1\n",
    "def squares(n):\n",
    "    for i in range(1,n+1):\n",
    "        yield i**2\n",
    "n=4\n",
    "for i in squares(n):\n",
    "    print(i)"
   ]
  },
  {
   "cell_type": "code",
   "execution_count": 21,
   "metadata": {},
   "outputs": [
    {
     "name": "stdout",
     "output_type": "stream",
     "text": [
      "0, 2, 4, 6, 8, 10, 12\n"
     ]
    }
   ],
   "source": [
    "#2\n",
    "def even(n):\n",
    "    for i in range(0,n+1):\n",
    "        if i%2==0:\n",
    "            yield i\n",
    "n=13 #int(input())\n",
    "print(', '.join(str(i) for i in even(n)))"
   ]
  },
  {
   "cell_type": "code",
   "execution_count": 20,
   "metadata": {},
   "outputs": [
    {
     "name": "stdout",
     "output_type": "stream",
     "text": [
      "0, 12, 24, 36, 48, 60\n"
     ]
    }
   ],
   "source": [
    "#3\n",
    "def divisible_by_3_4(n):\n",
    "    for i in range(0,n+1):\n",
    "        if i%3==0 and i%4==0:\n",
    "            yield i\n",
    "n=61\n",
    "print(', '.join(str(i) for i in divisible_by_3_4(n)))"
   ]
  },
  {
   "cell_type": "code",
   "execution_count": 25,
   "metadata": {},
   "outputs": [
    {
     "name": "stdout",
     "output_type": "stream",
     "text": [
      "9, 16, 25, 36, 49, 64, 81\n"
     ]
    }
   ],
   "source": [
    "#4\n",
    "def squares(a,b):\n",
    "    for i in range(a,b):\n",
    "        yield i**2\n",
    "a,b=3,10\n",
    "print(', '.join(str(i)for i in squares(a,b)))"
   ]
  },
  {
   "cell_type": "code",
   "execution_count": 27,
   "metadata": {},
   "outputs": [
    {
     "name": "stdout",
     "output_type": "stream",
     "text": [
      "10, 9, 8, 7, 6, 5, 4, 3, 2, 1, 0\n"
     ]
    }
   ],
   "source": [
    "#5\n",
    "def decrease(n):\n",
    "    for i in range(n,-1,-1):\n",
    "        yield i\n",
    "n=10\n",
    "print(', '.join(str(i)for i in decrease(n)))"
   ]
  },
  {
   "cell_type": "markdown",
   "metadata": {},
   "source": [
    "Python date"
   ]
  },
  {
   "cell_type": "code",
   "execution_count": 31,
   "metadata": {},
   "outputs": [
    {
     "name": "stdout",
     "output_type": "stream",
     "text": [
      "2025-02-12 15:19:00.185968\n"
     ]
    }
   ],
   "source": [
    "from datetime import datetime, timedelta\n",
    "x=datetime.today()\n",
    "five_days_ago=x-timedelta(days=5)\n",
    "print(five_days_ago)"
   ]
  },
  {
   "cell_type": "code",
   "execution_count": 40,
   "metadata": {},
   "outputs": [
    {
     "name": "stdout",
     "output_type": "stream",
     "text": [
      "today: 2025-02-17 15:25:17.590359 \n",
      "yesterday: 2025-02-16 15:25:17.590359 \n",
      "tomorrow: 2025-02-18 15:25:17.590359\n"
     ]
    }
   ],
   "source": [
    "from datetime import datetime, timedelta\n",
    "x=datetime.now()\n",
    "y=x-timedelta(days=1)\n",
    "z=x+timedelta(days=1)\n",
    "print('today:',x,'\\nyesterday:',y,'\\ntomorrow:',z)"
   ]
  },
  {
   "cell_type": "code",
   "execution_count": 43,
   "metadata": {},
   "outputs": [
    {
     "name": "stdout",
     "output_type": "stream",
     "text": [
      "2025-02-17 15:30:13\n",
      "2025-02-17 15:30:13\n"
     ]
    }
   ],
   "source": [
    "import datetime\n",
    "x=datetime.datetime.now()\n",
    "print(x.strftime(\"%Y-%m-%d %H:%M:%S\"))\n",
    "y=datetime.datetime.now()\n",
    "print(x.replace(microsecond=0))"
   ]
  },
  {
   "cell_type": "code",
   "execution_count": 49,
   "metadata": {},
   "outputs": [
    {
     "name": "stdout",
     "output_type": "stream",
     "text": [
      "1739615905.81512\n"
     ]
    }
   ],
   "source": [
    "from datetime import datetime, timedelta\n",
    "x=datetime.now()\n",
    "y=x-timedelta(days=2)\n",
    "print(y.timestamp())"
   ]
  },
  {
   "cell_type": "markdown",
   "metadata": {},
   "source": [
    "Python Math library"
   ]
  },
  {
   "cell_type": "code",
   "execution_count": 50,
   "metadata": {},
   "outputs": [
    {
     "name": "stdout",
     "output_type": "stream",
     "text": [
      "0.2617993877991494\n"
     ]
    }
   ],
   "source": [
    "import math\n",
    "x=15\n",
    "print((x*math.pi)/180)"
   ]
  },
  {
   "cell_type": "code",
   "execution_count": 54,
   "metadata": {},
   "outputs": [
    {
     "name": "stdout",
     "output_type": "stream",
     "text": [
      "27.5\n"
     ]
    }
   ],
   "source": [
    "height=5\n",
    "base1=5\n",
    "base2=6\n",
    "area_of_trapezoid=(base1+base2)/2*height\n",
    "print(area_of_trapezoid)"
   ]
  },
  {
   "cell_type": "code",
   "execution_count": 58,
   "metadata": {},
   "outputs": [
    {
     "name": "stdout",
     "output_type": "stream",
     "text": [
      "625\n"
     ]
    }
   ],
   "source": [
    "import math\n",
    "number_of_sides=4\n",
    "length_of_one_side=25\n",
    "area_of_reguler_poligon=(number_of_sides*(length_of_one_side**2)/4*math.tan(math.pi/number_of_sides))\n",
    "print(round(area_of_reguler_poligon))"
   ]
  },
  {
   "cell_type": "code",
   "execution_count": 60,
   "metadata": {},
   "outputs": [
    {
     "name": "stdout",
     "output_type": "stream",
     "text": [
      "30.0\n"
     ]
    }
   ],
   "source": [
    "height=5\n",
    "base=6\n",
    "area_of_parallelogram=height*base\n",
    "print(float(area_of_parallelogram))"
   ]
  },
  {
   "cell_type": "markdown",
   "metadata": {},
   "source": [
    "JSON"
   ]
  },
  {
   "cell_type": "code",
   "execution_count": 72,
   "metadata": {},
   "outputs": [
    {
     "name": "stdout",
     "output_type": "stream",
     "text": [
      "Interface status\n",
      "=======================================================================================\n",
      "DN                                                Description         Speed     MTU       \n",
      "---------------------------------------------- -------------------- ---------- --------\n",
      "topology/pod-1/node-201/sys/phys-[eth1/33]                            inherit   9150      \n",
      "topology/pod-1/node-201/sys/phys-[eth1/34]                            inherit   9150      \n",
      "topology/pod-1/node-201/sys/phys-[eth1/35]                            inherit   9150      \n",
      "topology/pod-1/node-201/sys/phys-[eth1/36]                            inherit   9150      \n",
      "topology/pod-1/node-201/sys/phys-[eth1/1]                             inherit   9150      \n",
      "topology/pod-1/node-201/sys/phys-[eth1/2]                             inherit   9150      \n",
      "topology/pod-1/node-201/sys/phys-[eth1/3]                             inherit   9150      \n",
      "topology/pod-1/node-201/sys/phys-[eth1/4]                             inherit   9150      \n",
      "topology/pod-1/node-201/sys/phys-[eth1/5]                             inherit   9150      \n",
      "topology/pod-1/node-201/sys/phys-[eth1/6]                             inherit   9150      \n",
      "topology/pod-1/node-201/sys/phys-[eth1/7]                             inherit   9150      \n",
      "topology/pod-1/node-201/sys/phys-[eth1/8]                             inherit   9150      \n",
      "topology/pod-1/node-201/sys/phys-[eth1/9]                             inherit   9150      \n",
      "topology/pod-1/node-201/sys/phys-[eth1/10]                            inherit   9150      \n",
      "topology/pod-1/node-201/sys/phys-[eth1/11]                            inherit   9150      \n",
      "topology/pod-1/node-201/sys/phys-[eth1/12]                            inherit   9150      \n",
      "topology/pod-1/node-201/sys/phys-[eth1/13]                            inherit   9150      \n",
      "topology/pod-1/node-201/sys/phys-[eth1/14]                            inherit   9150      \n"
     ]
    }
   ],
   "source": [
    "import json\n",
    "\n",
    "with open(\"sample-data.json\", \"r\") as file:\n",
    "    data = json.load(file)\n",
    "\n",
    "print(\"Interface status\")\n",
    "print(\"=\" * 87)\n",
    "print(f\"{'DN':<50}{'Description':<20}{'Speed':<10}{'MTU':<10}\")\n",
    "print(\"-\" * 46, \"-\" * 20, \"-\" * 10, \"-\" * 8)\n",
    "\n",
    "for imdata in data[\"imdata\"]:\n",
    "    for i in imdata:\n",
    "        for j in imdata[i]:\n",
    "            attributes = imdata[i][j]  \n",
    "            speed = attributes.get(\"speed\", \"inherit\")  \n",
    "            mtu = attributes.get(\"mtu\", \"N/A\")  \n",
    "            print(f\"{attributes['dn']:<50}{'':<20}{speed:<10}{mtu:<10}\")\n"
   ]
  }
 ],
 "metadata": {
  "kernelspec": {
   "display_name": "Python 3",
   "language": "python",
   "name": "python3"
  },
  "language_info": {
   "codemirror_mode": {
    "name": "ipython",
    "version": 3
   },
   "file_extension": ".py",
   "mimetype": "text/x-python",
   "name": "python",
   "nbconvert_exporter": "python",
   "pygments_lexer": "ipython3",
   "version": "3.13.1"
  }
 },
 "nbformat": 4,
 "nbformat_minor": 2
}
